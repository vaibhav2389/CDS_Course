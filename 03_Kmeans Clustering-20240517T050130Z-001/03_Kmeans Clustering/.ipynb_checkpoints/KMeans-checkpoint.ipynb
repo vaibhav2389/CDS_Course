{
 "cells": [
  {
   "cell_type": "markdown",
   "id": "56c58843",
   "metadata": {},
   "source": [
    "# Problem Statement"
   ]
  },
  {
   "cell_type": "markdown",
   "id": "c7be821f",
   "metadata": {},
   "source": [
    "### Using Iris data cluster Iris flowers into different clusters based on similarity."
   ]
  },
  {
   "cell_type": "code",
   "execution_count": null,
   "id": "25249cc9",
   "metadata": {},
   "outputs": [],
   "source": [
    "# Import libraries\n",
    "import numpy as np\n",
    "import pandas as pd\n",
    "import seaborn as sns\n",
    "import matplotlib.pyplot as plt\n",
    "import warnings\n",
    "warnings.filterwarnings('ignore')"
   ]
  },
  {
   "cell_type": "code",
   "execution_count": null,
   "id": "255e5859",
   "metadata": {},
   "outputs": [],
   "source": [
    "# Load data\n",
    "data=pd.read_csv(\"Iris.csv\")"
   ]
  },
  {
   "cell_type": "code",
   "execution_count": null,
   "id": "95c12105",
   "metadata": {},
   "outputs": [],
   "source": [
    "data"
   ]
  },
  {
   "cell_type": "code",
   "execution_count": null,
   "id": "457696e4",
   "metadata": {},
   "outputs": [],
   "source": [
    "# drop unnamed column\n",
    "data.drop('Unnamed: 0',axis=1,inplace=True)"
   ]
  },
  {
   "cell_type": "code",
   "execution_count": null,
   "id": "fe2675a9",
   "metadata": {},
   "outputs": [],
   "source": [
    "# Basic Checks"
   ]
  },
  {
   "cell_type": "code",
   "execution_count": null,
   "id": "70699dd2",
   "metadata": {
    "scrolled": true
   },
   "outputs": [],
   "source": [
    "data.head(2)"
   ]
  },
  {
   "cell_type": "code",
   "execution_count": null,
   "id": "7ada6182",
   "metadata": {},
   "outputs": [],
   "source": [
    "data.shape"
   ]
  },
  {
   "cell_type": "code",
   "execution_count": null,
   "id": "8ab8852d",
   "metadata": {},
   "outputs": [],
   "source": [
    "data.dtypes"
   ]
  },
  {
   "cell_type": "code",
   "execution_count": null,
   "id": "4e68b25a",
   "metadata": {
    "scrolled": true
   },
   "outputs": [],
   "source": [
    "data.info()"
   ]
  },
  {
   "cell_type": "code",
   "execution_count": null,
   "id": "cbd1837a",
   "metadata": {
    "scrolled": true
   },
   "outputs": [],
   "source": [
    "data.describe()"
   ]
  },
  {
   "cell_type": "code",
   "execution_count": null,
   "id": "6541b417",
   "metadata": {},
   "outputs": [],
   "source": [
    "data.target.unique()\n"
   ]
  },
  {
   "cell_type": "code",
   "execution_count": null,
   "id": "9cf427c0",
   "metadata": {
    "scrolled": true
   },
   "outputs": [],
   "source": [
    "# EDA\n",
    "plt.figure(figsize=(3,3))\n",
    "sns.scatterplot(data=data,x='petal_length',y='petal_width',hue='target',palette='Set1')"
   ]
  },
  {
   "cell_type": "markdown",
   "id": "13391214",
   "metadata": {},
   "source": [
    "# Data Preprocessing"
   ]
  },
  {
   "cell_type": "code",
   "execution_count": null,
   "id": "c3ace42c",
   "metadata": {},
   "outputs": [],
   "source": [
    "# check for missing values\n",
    "data.isnull().sum()"
   ]
  },
  {
   "cell_type": "code",
   "execution_count": null,
   "id": "4e26293c",
   "metadata": {},
   "outputs": [],
   "source": [
    "# check for duplicates\n",
    "data.duplicated().sum()"
   ]
  },
  {
   "cell_type": "code",
   "execution_count": null,
   "id": "5b81ec41",
   "metadata": {},
   "outputs": [],
   "source": [
    "data.drop_duplicates()"
   ]
  },
  {
   "cell_type": "code",
   "execution_count": null,
   "id": "56a4f3b4",
   "metadata": {
    "scrolled": true
   },
   "outputs": [],
   "source": [
    "# Check for outliers\n",
    "plt.figure(figsize=(3,5))\n",
    "plotnumber=1\n",
    "\n",
    "for column in data.drop('target',axis=1):\n",
    "    if plotnumber<=4: \n",
    "        ax=plt.subplot(2,2,plotnumber)\n",
    "        sns.boxplot(data[column])\n",
    "        plt.xlabel(column)\n",
    "        plt.ylabel(\"count\")\n",
    "    plotnumber+=1\n",
    "plt.tight_layout()"
   ]
  },
  {
   "cell_type": "code",
   "execution_count": null,
   "id": "734260b5",
   "metadata": {},
   "outputs": [],
   "source": [
    "plt.figure(figsize=(3,3))\n",
    "sns.histplot(data=data,x='sepal_width',kde=True)"
   ]
  },
  {
   "cell_type": "raw",
   "id": "85ef8028",
   "metadata": {},
   "source": [
    "* Clearly we see outliers in sepal_width columns and distribution of sepalwidth is \n",
    "normal will use 3-sigma rule to identify the outliers.\n",
    "* Replace outliers with mean since data is normal.\n",
    "\n",
    "- Any data points that lies beyond 3 STD DEV, they are outliers"
   ]
  },
  {
   "cell_type": "code",
   "execution_count": null,
   "id": "cb8f7c0d",
   "metadata": {
    "scrolled": true
   },
   "outputs": [],
   "source": [
    "# 3-sigma rule\n",
    "low_limit=data['sepal_width'].mean()-3*data['sepal_width'].std()\n",
    "upper_limit=data['sepal_width'].mean()+3*data['sepal_width'].std()\n",
    "\n",
    "print(\"lower limit\",low_limit)\n",
    "print(\"upper limit\",upper_limit)"
   ]
  },
  {
   "cell_type": "code",
   "execution_count": null,
   "id": "ccc79f28",
   "metadata": {},
   "outputs": [],
   "source": [
    "data.sepal_width.describe()"
   ]
  },
  {
   "cell_type": "code",
   "execution_count": null,
   "id": "850793bb",
   "metadata": {},
   "outputs": [],
   "source": [
    "# Find values less than lower limit\n",
    "data.loc[data['sepal_width']<low_limit]"
   ]
  },
  {
   "cell_type": "code",
   "execution_count": null,
   "id": "cbc2062f",
   "metadata": {},
   "outputs": [],
   "source": [
    "# Find values greater than upper limit\n",
    "data.loc[data['sepal_width']>upper_limit]"
   ]
  },
  {
   "cell_type": "code",
   "execution_count": null,
   "id": "eb9038d6",
   "metadata": {},
   "outputs": [],
   "source": [
    "# replace outlier with mean\n",
    "data.loc[data['sepal_width']>upper_limit,'sepal_width']=data['sepal_width'].mean()"
   ]
  },
  {
   "cell_type": "code",
   "execution_count": null,
   "id": "3e910a17",
   "metadata": {
    "scrolled": false
   },
   "outputs": [],
   "source": [
    "sns.boxplot(data=data,x='sepal_width')"
   ]
  },
  {
   "cell_type": "code",
   "execution_count": null,
   "id": "f069a9b0",
   "metadata": {},
   "outputs": [],
   "source": [
    "# Apply scaling\n",
    "from sklearn.preprocessing import StandardScaler\n",
    "\n",
    "scaling=StandardScaler()\n",
    "data[['sepal_length', 'sepal_width', 'petal_length', 'petal_width']]=scaling.fit_transform(data[['sepal_length', 'sepal_width', 'petal_length', 'petal_width']])"
   ]
  },
  {
   "cell_type": "code",
   "execution_count": null,
   "id": "65b0d43e",
   "metadata": {},
   "outputs": [],
   "source": [
    "data.head()"
   ]
  },
  {
   "cell_type": "code",
   "execution_count": null,
   "id": "15bfcf6c",
   "metadata": {},
   "outputs": [],
   "source": [
    "data.columns"
   ]
  },
  {
   "cell_type": "code",
   "execution_count": null,
   "id": "aa997d9e",
   "metadata": {},
   "outputs": [],
   "source": [
    "# Remove target from data\n",
    "x=data.drop('target',axis=1)"
   ]
  },
  {
   "cell_type": "code",
   "execution_count": null,
   "id": "615918ff",
   "metadata": {
    "scrolled": true
   },
   "outputs": [],
   "source": [
    "x"
   ]
  },
  {
   "cell_type": "markdown",
   "id": "06b6aab3",
   "metadata": {},
   "source": [
    "# Apply Kmean model"
   ]
  },
  {
   "cell_type": "code",
   "execution_count": null,
   "id": "0831dd47",
   "metadata": {},
   "outputs": [],
   "source": [
    "# import kmean model\n",
    "from sklearn.cluster import KMeans\n",
    "# initialize the model\n",
    "model=KMeans(n_clusters=5,random_state=10)\n",
    "# train a model\n",
    "model.fit(x)"
   ]
  },
  {
   "cell_type": "code",
   "execution_count": null,
   "id": "cb58d6d4",
   "metadata": {},
   "outputs": [],
   "source": [
    "# centroids-cluster centers\n",
    "# no of clusters is sames as number of centroids\n",
    "model.cluster_centers_"
   ]
  },
  {
   "cell_type": "code",
   "execution_count": null,
   "id": "abbfa7c4",
   "metadata": {
    "scrolled": true
   },
   "outputs": [],
   "source": [
    "model.labels_"
   ]
  },
  {
   "cell_type": "code",
   "execution_count": null,
   "id": "92a5c8ee",
   "metadata": {},
   "outputs": [],
   "source": [
    "# Visualize the clusters created by model\n",
    "plt.figure(figsize=(3,3))\n",
    "color_schema=np.array([\"red\",\"green\",\"black\",\"orange\",\"blue\"])\n",
    "plt.scatter(x.petal_length,x.petal_width,color=color_schema[model.labels_])"
   ]
  },
  {
   "cell_type": "code",
   "execution_count": null,
   "id": "f884841d",
   "metadata": {},
   "outputs": [],
   "source": [
    "data['labels']=pd.DataFrame(model.labels_)"
   ]
  },
  {
   "cell_type": "code",
   "execution_count": null,
   "id": "852af053",
   "metadata": {},
   "outputs": [],
   "source": [
    "from sklearn.metrics import silhouette_score\n",
    "silhouette_score(x,model.labels_)"
   ]
  },
  {
   "cell_type": "code",
   "execution_count": null,
   "id": "c9c44a89",
   "metadata": {},
   "outputs": [],
   "source": [
    "# We see overlapping of clusters because number of clusters that we have choosen might be wrong"
   ]
  },
  {
   "cell_type": "markdown",
   "id": "dfa28414",
   "metadata": {},
   "source": [
    "# How to  find optimal value for K?\n",
    "Elbow Method"
   ]
  },
  {
   "cell_type": "code",
   "execution_count": null,
   "id": "7e0a2e85",
   "metadata": {},
   "outputs": [],
   "source": [
    "WCSS=[]\n",
    "for i in range(2,11):\n",
    "    model=KMeans(n_clusters=i,random_state=20)\n",
    "    model.fit(x)\n",
    "    WCSS.append(model.inertia_)\n",
    "plt.plot(range(2,11),WCSS)\n",
    "plt.title('Elbow curve')\n",
    "plt.xlabel('no of clusters(k)')\n",
    "plt.ylabel('WCSS')\n",
    "    \n",
    "    "
   ]
  },
  {
   "cell_type": "code",
   "execution_count": null,
   "id": "754a6b53",
   "metadata": {},
   "outputs": [],
   "source": [
    "WCSS"
   ]
  },
  {
   "cell_type": "code",
   "execution_count": null,
   "id": "b0842890",
   "metadata": {},
   "outputs": [],
   "source": [
    "# Clearly from elbow method the optimal value for k is 3"
   ]
  },
  {
   "cell_type": "code",
   "execution_count": null,
   "id": "71b29e7e",
   "metadata": {},
   "outputs": [],
   "source": [
    "model=KMeans(n_clusters=3,random_state=10)\n",
    "model.fit(x)"
   ]
  },
  {
   "cell_type": "code",
   "execution_count": null,
   "id": "a76f3d13",
   "metadata": {},
   "outputs": [],
   "source": [
    "silhouette_score(x,model.labels_)"
   ]
  },
  {
   "cell_type": "code",
   "execution_count": null,
   "id": "d35c78ce",
   "metadata": {},
   "outputs": [],
   "source": [
    "plt.scatter(x.petal_length,x.petal_width,color=color_schema[model.labels_])"
   ]
  },
  {
   "cell_type": "code",
   "execution_count": null,
   "id": "94427516",
   "metadata": {},
   "outputs": [],
   "source": []
  },
  {
   "cell_type": "code",
   "execution_count": null,
   "id": "37c39529",
   "metadata": {},
   "outputs": [],
   "source": []
  },
  {
   "cell_type": "code",
   "execution_count": null,
   "id": "b818a17c",
   "metadata": {},
   "outputs": [],
   "source": []
  }
 ],
 "metadata": {
  "kernelspec": {
   "display_name": "Python 3 (ipykernel)",
   "language": "python",
   "name": "python3"
  },
  "language_info": {
   "codemirror_mode": {
    "name": "ipython",
    "version": 3
   },
   "file_extension": ".py",
   "mimetype": "text/x-python",
   "name": "python",
   "nbconvert_exporter": "python",
   "pygments_lexer": "ipython3",
   "version": "3.11.5"
  }
 },
 "nbformat": 4,
 "nbformat_minor": 5
}
